{
 "cells": [
  {
   "cell_type": "code",
   "execution_count": 1,
   "id": "3d24f94d",
   "metadata": {},
   "outputs": [],
   "source": [
    "import numpy as np"
   ]
  },
  {
   "cell_type": "code",
   "execution_count": 2,
   "id": "b25f5833",
   "metadata": {},
   "outputs": [],
   "source": [
    "def mul_scalar_vector(k, x): #nhan hang so k cho vector x\n",
    "    y = []\n",
    "    for num in x:\n",
    "        num *= k\n",
    "        y.append(num)\n",
    "    return y"
   ]
  },
  {
   "cell_type": "code",
   "execution_count": 3,
   "id": "80153073",
   "metadata": {},
   "outputs": [],
   "source": [
    "def swap_row(A,i,j): #hoan vi dong i, dong j\n",
    "    temp = []\n",
    "    for num in A[i]:\n",
    "        temp.append(num)\n",
    "    for k in range(len(A[j])):\n",
    "        A[i][k] = A[j][k]\n",
    "    for k in range(len(temp)):\n",
    "        A[j][k] = temp[k]\n",
    "    return"
   ]
  },
  {
   "cell_type": "code",
   "execution_count": 4,
   "id": "9143e554",
   "metadata": {},
   "outputs": [],
   "source": [
    "def add_vector(x,y): #cong hai vector x, y\n",
    "    a = []\n",
    "    for i in range(len(x)):\n",
    "        a.append(x[i] + y[i])\n",
    "    return a"
   ]
  },
  {
   "cell_type": "code",
   "execution_count": 8,
   "id": "edf69a72",
   "metadata": {},
   "outputs": [],
   "source": [
    "def Gauss_elimination(A):\n",
    "    for j in range(len(A[0])):\n",
    "        for i in range(j, len(A)):\n",
    "            if A[i][j] == 0:\n",
    "                for k in range(i + 1, len(A)):\n",
    "                    if A[k][j] != 0:\n",
    "                        swap_row(A, i, k)\n",
    "                        break\n",
    "            \n",
    "            if A[i][j]!=0:\n",
    "                A[i] = mul_scalar_vector(1/A[i][j], A[i])\n",
    "                if i != j:\n",
    "                    n = mul_scalar_vector(-1, A[j])\n",
    "                    A[i] = add_vector(A[i], n)                \n",
    "    \n",
    "    for i in range(len(A)-1, -1, -1):\n",
    "        k=-1\n",
    "        for j in range(len(A[i])):\n",
    "            if(A[i][j]!=0):\n",
    "                k = j\n",
    "                break\n",
    "        if(k>=0 and k<len(A) and A[k][k]==0):\n",
    "            swap_row(A, i, k)\n",
    "            A[k] = mul_scalar_vector(1/A[k][k], A[k])\n",
    "    return "
   ]
  },
  {
   "cell_type": "code",
   "execution_count": 9,
   "id": "978552fe",
   "metadata": {},
   "outputs": [],
   "source": [
    "def back_substitution(A):\n",
    "    k = 0\n",
    "    \n",
    "    for i in range(len(A)):\n",
    "        for j in range(len(A[i])):\n",
    "            if(A[i][j] != 0 and j != len(A[i])-1):\n",
    "                break\n",
    "            if(A[i][j] != 0 and j == len(A[i])-1):\n",
    "                print(\"Hệ phương trình vô nghiệm\")\n",
    "                return\n",
    "            if(j == len(A[i])-1):\n",
    "                k = k + 1\n",
    "\n",
    "\n",
    "    #Phương trình 1 nghiệm\n",
    "    if(k==0):\n",
    "        n = len(A[0])-1\n",
    "        x = np.zeros(n)\n",
    "\n",
    "        for i in reversed(range(len(A))):\n",
    "            x[i] = A[i][n]\n",
    "            for j in range(i + 1,n):\n",
    "                x[i] = x[i] - A[i][j]*x[j]\n",
    "        print('\\nNghiệm của hệ phương trình: ')\n",
    "        for i in range(n):\n",
    "            print('X%d = %0.2f' %(i,x[i]), end = '\\t') \n",
    "        return\n",
    "\n",
    "    #Phương trình vô số nghiệm\n",
    "    res = np.zeros((len(A), len(A[0])))\n",
    "\n",
    "    for i in range(len(A)-1, -1, -1):\n",
    "        if(A[i][i]==0):\n",
    "            res[i][i] = 1\n",
    "            continue\n",
    "        \n",
    "        res[i][len(A[i])-1] = A[i][len(A[i])-1]\n",
    "        for j in range(i+1, len(A[i])-1):\n",
    "            temp = -A[i][j]\n",
    "            for k in range(len(res[j])):\n",
    "                res[i][k] = res[i][k] + temp*res[j][k]\n",
    "\n",
    "    print('\\nNghiệm của hệ phương trình: ')\n",
    "    for i in range(len(A)):\n",
    "        print(\"X\" + str(i+1) + \" = \", end = '' )\n",
    "        for j in range(len(res[i])):\n",
    "            if(res[i][j] > 0):\n",
    "                print(\" + \"  + str(res[i][j]), end = '' )\n",
    "            elif(res[i][j] < 0):\n",
    "                print(\" - \"  + str(abs(res[i][j])), end = '' )\n",
    "            \n",
    "            if(j != len(A[i])-1 and res[i][j] != 0):\n",
    "                print(\"X\" + str(j+1), end = '')\n",
    "        print()"
   ]
  },
  {
   "cell_type": "code",
   "execution_count": 12,
   "id": "95d78474",
   "metadata": {},
   "outputs": [
    {
     "name": "stdout",
     "output_type": "stream",
     "text": [
      "Enter size of matrix: 3\n",
      "Enter row A[0]:\n",
      "A[0][0]=1\n",
      "A[0][1]=-1\n",
      "A[0][2]=0\n",
      "A[0][3]=-1\n",
      "Enter row A[1]:\n",
      "A[1][0]=2\n",
      "A[1][1]=1\n",
      "A[1][2]=-1\n",
      "A[1][3]=1\n",
      "Enter row A[2]:\n",
      "A[2][0]=0\n",
      "A[2][1]=1\n",
      "A[2][2]=1\n",
      "A[2][3]=5\n",
      "\n",
      "Nghiệm của hệ phương trình: \n",
      "X0 = 1.00\tX1 = 2.00\tX2 = 3.00\t"
     ]
    }
   ],
   "source": [
    "n = int(input('Enter size of matrix: '))\n",
    "A = np.zeros((n,n+1))\n",
    "for i in range(n):\n",
    "    print('Enter row A[%d]:' %(i))\n",
    "    for j in range(n+1):\n",
    "        A[i][j] = float(input( 'A['+str(i)+']['+ str(j)+']='))\n",
    "\n",
    "Gauss_elimination(A)\n",
    "back_substitution(A)"
   ]
  },
  {
   "cell_type": "code",
   "execution_count": null,
   "id": "8c5f9f2b",
   "metadata": {},
   "outputs": [],
   "source": []
  }
 ],
 "metadata": {
  "kernelspec": {
   "display_name": "Python 3 (ipykernel)",
   "language": "python",
   "name": "python3"
  },
  "language_info": {
   "codemirror_mode": {
    "name": "ipython",
    "version": 3
   },
   "file_extension": ".py",
   "mimetype": "text/x-python",
   "name": "python",
   "nbconvert_exporter": "python",
   "pygments_lexer": "ipython3",
   "version": "3.9.12"
  }
 },
 "nbformat": 4,
 "nbformat_minor": 5
}
